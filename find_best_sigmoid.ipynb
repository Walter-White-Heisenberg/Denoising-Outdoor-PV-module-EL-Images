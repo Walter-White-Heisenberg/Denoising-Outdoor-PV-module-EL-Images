{
 "cells": [
  {
   "cell_type": "markdown",
   "metadata": {},
   "source": [
    "# find the coresponding sigmoid"
   ]
  },
  {
   "cell_type": "code",
   "execution_count": 1,
   "metadata": {},
   "outputs": [],
   "source": [
    "import os\n",
    "import numpy as np\n",
    "from PIL import Image\n",
    "import matplotlib.pyplot as plt\n",
    "from skimage.metrics import structural_similarity as ssim\n",
    "from bm3d import bm3d\n",
    "from tqdm import tqdm"
   ]
  },
  {
   "cell_type": "code",
   "execution_count": 2,
   "metadata": {},
   "outputs": [],
   "source": [
    "def calculate_psnr(img1, img2):\n",
    "    mse = np.mean((img1 - img2) ** 2)\n",
    "    if mse == 0:\n",
    "        return float('inf')\n",
    "    max_pixel = 1.0\n",
    "    return 20 * np.log10(max_pixel / np.sqrt(mse))\n",
    "\n",
    "def calculate_ssim(img1, img2):\n",
    "    return ssim(img1, img2, data_range=img2.max() - img2.min())\n",
    "\n",
    "def bm3d_denoise(image_np, sigma_psd):\n",
    "    denoised_image = bm3d(image_np, sigma_psd=sigma_psd)\n",
    "    return denoised_image\n",
    "\n"
   ]
  },
  {
   "cell_type": "code",
   "execution_count": 4,
   "metadata": {},
   "outputs": [],
   "source": [
    "def process_images(clean_image_path, noisy_image_path, target_size=(2000, 2992)):\n",
    "    clean_image = Image.open(clean_image_path).convert('L')\n",
    "    noisy_image = Image.open(noisy_image_path).convert('L')\n",
    "\n",
    "    clean_image = clean_image.resize(target_size)\n",
    "    noisy_image = noisy_image.resize(target_size)\n",
    "    \n",
    "    clean_np = np.array(clean_image) / 255.0\n",
    "    noisy_np = np.array(noisy_image) / 255.0\n",
    "\n",
    "    sigma_values = np.linspace(25, 250, 150) / 255.0\n",
    "    best_sigma, best_psnr, best_ssim, best_denoised_image, results = find_best_sigma(clean_np, noisy_np, sigma_values)\n",
    "\n",
    "    best_denoised_image_path = os.path.join(os.path.dirname(clean_image_path), f'best_denoised_{os.path.basename(clean_image_path)}')\n",
    "    best_denoised_image_pil = Image.fromarray((best_denoised_image * 255).astype(np.uint8))\n",
    "    best_denoised_image_pil.save(best_denoised_image_path)\n",
    "\n",
    "    sigma_values = []\n",
    "    psnr_values = []\n",
    "    ssim_values = []\n",
    "    for sigma, psnr_value, ssim_value in results:\n",
    "        sigma_values.append(sigma)\n",
    "        psnr_values.append(psnr_value)\n",
    "        ssim_values.append(ssim_value)\n",
    "\n",
    "    sigma_values = np.array(sigma_values)\n",
    "    psnr_values = np.array(psnr_values)\n",
    "    ssim_values = np.array(ssim_values)\n",
    "\n",
    "    # Plot PSNR vs Sigma\n",
    "    plt.figure(figsize=(12, 6))\n",
    "    plt.plot(sigma_values * 255.0, psnr_values, marker='o', linestyle='-', color='b')\n",
    "    plt.xlabel('Sigma')\n",
    "    plt.ylabel('PSNR')\n",
    "    plt.title(f'PSNR vs Sigma for {os.path.basename(clean_image_path)}')\n",
    "    plt.grid(True)\n",
    "    plt.savefig(os.path.join(os.path.dirname(clean_image_path), f'psnr_vs_sigma_{os.path.basename(clean_image_path)}.png'))\n",
    "    plt.close()\n",
    "\n",
    "    # Plot SSIM vs Sigma\n",
    "    plt.figure(figsize=(12, 6))\n",
    "    plt.plot(sigma_values * 255.0, ssim_values, marker='o', linestyle='-', color='r')\n",
    "    plt.xlabel('Sigma')\n",
    "    plt.ylabel('SSIM')\n",
    "    plt.title(f'SSIM vs Sigma for {os.path.basename(clean_image_path)}')\n",
    "    plt.grid(True)\n",
    "    plt.savefig(os.path.join(os.path.dirname(clean_image_path), f'ssim_vs_sigma_{os.path.basename(clean_image_path)}.png'))\n",
    "    plt.close()\n",
    "\n",
    "    # Save PSNR and SSIM values to a text file\n",
    "    results_file_path = os.path.join(os.path.dirname(clean_image_path), f'results_{os.path.basename(clean_image_path)}.txt')\n",
    "    with open(results_file_path, 'w') as f:\n",
    "        f.write('Sigma,PSNR,SSIM\\n')\n",
    "        for sigma, psnr_value, ssim_value in results:\n",
    "            f.write(f\"{sigma*255.0:.2f},{psnr_value:.4f},{ssim_value:.4f}\\n\")\n",
    "\n",
    "    print(f\"Best sigma for {clean_image_path}: {best_sigma}\")\n",
    "    print(f\"Best PSNR for {clean_image_path}: {best_psnr}\")\n",
    "    print(f\"Best SSIM for {clean_image_path}: {best_ssim}\")\n",
    "    print(f\"Best denoised image saved at: {best_denoised_image_path}\")\n",
    "    print(f\"Results saved at: {results_file_path}\")\n",
    "\n",
    "\n",
    "    # Plot PSNR vs Sigma\n",
    "    plt.figure(figsize=(12, 6))\n",
    "    plt.plot(sigma_values * 255.0, psnr_values, marker='o', linestyle='-', color='b')\n",
    "    plt.xlabel('Sigma')\n",
    "    plt.ylabel('PSNR')\n",
    "    plt.title(f'PSNR vs Sigma for {os.path.basename(clean_image_path)}')\n",
    "    plt.grid(True)\n",
    "    plt.savefig(os.path.join(os.path.dirname(clean_image_path), f'psnr_vs_sigma_{os.path.basename(clean_image_path)}.png'))\n",
    "    plt.close()\n",
    "\n",
    "    # Plot SSIM vs Sigma\n",
    "    plt.figure(figsize=(12, 6))\n",
    "    plt.plot(sigma_values * 255.0, ssim_values, marker='o', linestyle='-', color='r')\n",
    "    plt.xlabel('Sigma')\n",
    "    plt.ylabel('SSIM')\n",
    "    plt.title(f'SSIM vs Sigma for {os.path.basename(clean_image_path)}')\n",
    "    plt.grid(True)\n",
    "    plt.savefig(os.path.join(os.path.dirname(clean_image_path), f'ssim_vs_sigma_{os.path.basename(clean_image_path)}.png'))\n",
    "    plt.close()\n",
    "\n",
    "    print(f\"Best sigma for {clean_image_path}: {best_sigma}\")\n",
    "    print(f\"Best PSNR for {clean_image_path}: {best_psnr}\")\n",
    "    print(f\"Best SSIM for {clean_image_path}: {best_ssim}\")\n",
    "    print(f\"Best denoised image saved at: {best_denoised_image_path}\")\n",
    "\n"
   ]
  },
  {
   "cell_type": "code",
   "execution_count": 5,
   "metadata": {},
   "outputs": [
    {
     "name": "stdout",
     "output_type": "stream",
     "text": [
      "['dataset/temp_source/clean1.jpg', 'dataset/temp_source/clean2.jpg', 'dataset/temp_source/clean3.jpg', 'dataset/temp_source/clean4.jpg']\n"
     ]
    },
    {
     "name": "stderr",
     "output_type": "stream",
     "text": [
      "Finding best sigma: 100%|██████████| 150/150 [1:56:43<00:00, 46.69s/it]\n"
     ]
    },
    {
     "ename": "TypeError",
     "evalue": "cannot unpack non-iterable NoneType object",
     "output_type": "error",
     "traceback": [
      "\u001b[1;31m---------------------------------------------------------------------------\u001b[0m",
      "\u001b[1;31mTypeError\u001b[0m                                 Traceback (most recent call last)",
      "Cell \u001b[1;32mIn[5], line 39\u001b[0m\n\u001b[0;32m     37\u001b[0m \u001b[38;5;28;01mfor\u001b[39;00m clean_image_path, noisy_image_path \u001b[38;5;129;01min\u001b[39;00m \u001b[38;5;28mzip\u001b[39m(clean_image_paths, noisy_image_paths):\n\u001b[0;32m     38\u001b[0m     \u001b[38;5;28mprint\u001b[39m(clean_image_paths)\n\u001b[1;32m---> 39\u001b[0m     \u001b[43mprocess_images\u001b[49m\u001b[43m(\u001b[49m\u001b[43mclean_image_path\u001b[49m\u001b[43m,\u001b[49m\u001b[43m \u001b[49m\u001b[43mnoisy_image_path\u001b[49m\u001b[43m)\u001b[49m\n",
      "Cell \u001b[1;32mIn[4], line 12\u001b[0m, in \u001b[0;36mprocess_images\u001b[1;34m(clean_image_path, noisy_image_path, target_size)\u001b[0m\n\u001b[0;32m      9\u001b[0m noisy_np \u001b[38;5;241m=\u001b[39m np\u001b[38;5;241m.\u001b[39marray(noisy_image) \u001b[38;5;241m/\u001b[39m \u001b[38;5;241m255.0\u001b[39m\n\u001b[0;32m     11\u001b[0m sigma_values \u001b[38;5;241m=\u001b[39m np\u001b[38;5;241m.\u001b[39mlinspace(\u001b[38;5;241m25\u001b[39m, \u001b[38;5;241m250\u001b[39m, \u001b[38;5;241m150\u001b[39m) \u001b[38;5;241m/\u001b[39m \u001b[38;5;241m255.0\u001b[39m\n\u001b[1;32m---> 12\u001b[0m best_sigma, best_psnr, best_ssim, best_denoised_image, results \u001b[38;5;241m=\u001b[39m find_best_sigma(clean_np, noisy_np, sigma_values)\n\u001b[0;32m     14\u001b[0m best_denoised_image_path \u001b[38;5;241m=\u001b[39m os\u001b[38;5;241m.\u001b[39mpath\u001b[38;5;241m.\u001b[39mjoin(os\u001b[38;5;241m.\u001b[39mpath\u001b[38;5;241m.\u001b[39mdirname(clean_image_path), \u001b[38;5;124mf\u001b[39m\u001b[38;5;124m'\u001b[39m\u001b[38;5;124mbest_denoised_\u001b[39m\u001b[38;5;132;01m{\u001b[39;00mos\u001b[38;5;241m.\u001b[39mpath\u001b[38;5;241m.\u001b[39mbasename(clean_image_path)\u001b[38;5;132;01m}\u001b[39;00m\u001b[38;5;124m'\u001b[39m)\n\u001b[0;32m     15\u001b[0m best_denoised_image_pil \u001b[38;5;241m=\u001b[39m Image\u001b[38;5;241m.\u001b[39mfromarray((best_denoised_image \u001b[38;5;241m*\u001b[39m \u001b[38;5;241m255\u001b[39m)\u001b[38;5;241m.\u001b[39mastype(np\u001b[38;5;241m.\u001b[39muint8))\n",
      "\u001b[1;31mTypeError\u001b[0m: cannot unpack non-iterable NoneType object"
     ]
    }
   ],
   "source": [
    "def find_best_sigma(clean_np, noisy_np, sigma_values):\n",
    "    best_sigma = None\n",
    "    best_psnr = -float('inf')\n",
    "    best_ssim = -float('inf')\n",
    "    best_denoised_image = None\n",
    "    results = []\n",
    "\n",
    "    with tqdm(sigma_values, desc=\"Finding best sigma\") as pbar:\n",
    "        for sigma in pbar:\n",
    "            denoised_image = bm3d_denoise(noisy_np, sigma)\n",
    "            psnr_value = calculate_psnr(clean_np, denoised_image)\n",
    "            ssim_value = calculate_ssim(clean_np, denoised_image)\n",
    "\n",
    "            results.append((sigma, psnr_value, ssim_value))\n",
    "\n",
    "            if psnr_value > best_psnr and ssim_value > best_ssim:\n",
    "                best_psnr = psnr_value\n",
    "                best_ssim = ssim_value\n",
    "                best_sigma = sigma\n",
    "                best_denoised_image = denoised_image\n",
    "\n",
    "# Paths to your image pairs\n",
    "clean_image_paths = [\n",
    "    'dataset/temp_source/clean1.jpg',\n",
    "    'dataset/temp_source/clean2.jpg',\n",
    "    'dataset/temp_source/clean3.jpg',\n",
    "    'dataset/temp_source/clean4.jpg'\n",
    "]\n",
    "noisy_image_paths = [\n",
    "    'dataset/temp_source/noisy1.jpg',\n",
    "    'dataset/temp_source/noisy2.jpg',\n",
    "    'dataset/temp_source/noisy3.jpg',\n",
    "    'dataset/temp_source/noisy4.jpg'\n",
    "]\n",
    "\n",
    "# Process each image pair with a progress bar\n",
    "for clean_image_path, noisy_image_path in zip(clean_image_paths, noisy_image_paths):\n",
    "    print(clean_image_paths)\n",
    "    process_images(clean_image_path, noisy_image_path)"
   ]
  }
 ],
 "metadata": {
  "kernelspec": {
   "display_name": ".venv",
   "language": "python",
   "name": "python3"
  },
  "language_info": {
   "codemirror_mode": {
    "name": "ipython",
    "version": 3
   },
   "file_extension": ".py",
   "mimetype": "text/x-python",
   "name": "python",
   "nbconvert_exporter": "python",
   "pygments_lexer": "ipython3",
   "version": "3.12.10"
  }
 },
 "nbformat": 4,
 "nbformat_minor": 2
}
